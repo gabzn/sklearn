{
 "cells": [
  {
   "cell_type": "code",
   "execution_count": 38,
   "id": "4c2daf76",
   "metadata": {},
   "outputs": [],
   "source": [
    "import pandas as pd\n",
    "import numpy as np\n",
    "\n",
    "from sklearn.model_selection import train_test_split\n",
    "from sklearn.feature_extraction.text import CountVectorizer\n",
    "\n",
    "from sklearn.naive_bayes import MultinomialNB\n",
    "from sklearn.ensemble import RandomForestClassifier\n",
    "from sklearn.svm import SVC\n",
    "\n",
    "from sklearn import metrics"
   ]
  },
  {
   "cell_type": "code",
   "execution_count": 39,
   "id": "5f56fd74",
   "metadata": {},
   "outputs": [
    {
     "data": {
      "text/html": [
       "<div>\n",
       "<style scoped>\n",
       "    .dataframe tbody tr th:only-of-type {\n",
       "        vertical-align: middle;\n",
       "    }\n",
       "\n",
       "    .dataframe tbody tr th {\n",
       "        vertical-align: top;\n",
       "    }\n",
       "\n",
       "    .dataframe thead th {\n",
       "        text-align: right;\n",
       "    }\n",
       "</style>\n",
       "<table border=\"1\" class=\"dataframe\">\n",
       "  <thead>\n",
       "    <tr style=\"text-align: right;\">\n",
       "      <th></th>\n",
       "      <th>Review</th>\n",
       "      <th>Rating</th>\n",
       "    </tr>\n",
       "  </thead>\n",
       "  <tbody>\n",
       "    <tr>\n",
       "      <th>0</th>\n",
       "      <td>nice hotel expensive parking got good deal sta...</td>\n",
       "      <td>4</td>\n",
       "    </tr>\n",
       "    <tr>\n",
       "      <th>1</th>\n",
       "      <td>ok nothing special charge diamond member hilto...</td>\n",
       "      <td>2</td>\n",
       "    </tr>\n",
       "    <tr>\n",
       "      <th>2</th>\n",
       "      <td>nice rooms not 4* experience hotel monaco seat...</td>\n",
       "      <td>3</td>\n",
       "    </tr>\n",
       "    <tr>\n",
       "      <th>3</th>\n",
       "      <td>unique, great stay, wonderful time hotel monac...</td>\n",
       "      <td>5</td>\n",
       "    </tr>\n",
       "    <tr>\n",
       "      <th>4</th>\n",
       "      <td>great stay great stay, went seahawk game aweso...</td>\n",
       "      <td>5</td>\n",
       "    </tr>\n",
       "    <tr>\n",
       "      <th>...</th>\n",
       "      <td>...</td>\n",
       "      <td>...</td>\n",
       "    </tr>\n",
       "    <tr>\n",
       "      <th>20486</th>\n",
       "      <td>best kept secret 3rd time staying charm, not 5...</td>\n",
       "      <td>5</td>\n",
       "    </tr>\n",
       "    <tr>\n",
       "      <th>20487</th>\n",
       "      <td>great location price view hotel great quick pl...</td>\n",
       "      <td>4</td>\n",
       "    </tr>\n",
       "    <tr>\n",
       "      <th>20488</th>\n",
       "      <td>ok just looks nice modern outside, desk staff ...</td>\n",
       "      <td>2</td>\n",
       "    </tr>\n",
       "    <tr>\n",
       "      <th>20489</th>\n",
       "      <td>hotel theft ruined vacation hotel opened sept ...</td>\n",
       "      <td>1</td>\n",
       "    </tr>\n",
       "    <tr>\n",
       "      <th>20490</th>\n",
       "      <td>people talking, ca n't believe excellent ratin...</td>\n",
       "      <td>2</td>\n",
       "    </tr>\n",
       "  </tbody>\n",
       "</table>\n",
       "<p>20491 rows × 2 columns</p>\n",
       "</div>"
      ],
      "text/plain": [
       "                                                  Review  Rating\n",
       "0      nice hotel expensive parking got good deal sta...       4\n",
       "1      ok nothing special charge diamond member hilto...       2\n",
       "2      nice rooms not 4* experience hotel monaco seat...       3\n",
       "3      unique, great stay, wonderful time hotel monac...       5\n",
       "4      great stay great stay, went seahawk game aweso...       5\n",
       "...                                                  ...     ...\n",
       "20486  best kept secret 3rd time staying charm, not 5...       5\n",
       "20487  great location price view hotel great quick pl...       4\n",
       "20488  ok just looks nice modern outside, desk staff ...       2\n",
       "20489  hotel theft ruined vacation hotel opened sept ...       1\n",
       "20490  people talking, ca n't believe excellent ratin...       2\n",
       "\n",
       "[20491 rows x 2 columns]"
      ]
     },
     "execution_count": 39,
     "metadata": {},
     "output_type": "execute_result"
    }
   ],
   "source": [
    "df = pd.read_csv('./tripadvisor_hotel_reviews.csv')\n",
    "df"
   ]
  },
  {
   "cell_type": "code",
   "execution_count": 40,
   "id": "338e3d25",
   "metadata": {},
   "outputs": [],
   "source": [
    "# Added Sentiment based on rating.\n",
    "# rating > 3 = Good\n",
    "# ratingg = 3 = Medium\n",
    "# rating < 3 = Bad\n",
    "\n",
    "def set_sentiment(rating):\n",
    "    if rating > 3:\n",
    "        return 'Good'\n",
    "    elif rating == 3:\n",
    "        return 'Medium'\n",
    "    return 'Bad'\n",
    "\n",
    "df['Sentiment'] = df['Rating'].apply(set_sentiment)"
   ]
  },
  {
   "cell_type": "code",
   "execution_count": 41,
   "id": "98c4d954",
   "metadata": {},
   "outputs": [],
   "source": [
    "# Define X and y\n",
    "\n",
    "X = df['Review'].values\n",
    "y = df['Sentiment'].values"
   ]
  },
  {
   "cell_type": "code",
   "execution_count": 42,
   "id": "9dcb15f6",
   "metadata": {},
   "outputs": [],
   "source": [
    "# Bags of words\n",
    "\n",
    "vectorizer = CountVectorizer()\n",
    "X = vectorizer.fit_transform(X)"
   ]
  },
  {
   "cell_type": "code",
   "execution_count": 43,
   "id": "b3362c73",
   "metadata": {},
   "outputs": [],
   "source": [
    "# Split data\n",
    "\n",
    "X_train, X_test, y_train, y_test = train_test_split(X, y, test_size=0.35, random_state=82)"
   ]
  },
  {
   "cell_type": "markdown",
   "id": "1b68624d",
   "metadata": {},
   "source": [
    "## SVM Model"
   ]
  },
  {
   "cell_type": "code",
   "execution_count": 44,
   "id": "4e1c19d7",
   "metadata": {},
   "outputs": [
    {
     "data": {
      "text/plain": [
       "SVC()"
      ]
     },
     "execution_count": 44,
     "metadata": {},
     "output_type": "execute_result"
    }
   ],
   "source": [
    "# SVM model\n",
    "svm_model = SVC()\n",
    "svm_model.fit(X_train, y_train)"
   ]
  },
  {
   "cell_type": "code",
   "execution_count": 45,
   "id": "26a50d5a",
   "metadata": {},
   "outputs": [],
   "source": [
    "# Using SVM model on X_test\n",
    "svm_y_pred = svm_model.predict(X_test)"
   ]
  },
  {
   "cell_type": "markdown",
   "id": "8a42f290",
   "metadata": {},
   "source": [
    "## Random Forest Model"
   ]
  },
  {
   "cell_type": "code",
   "execution_count": 46,
   "id": "db513c65",
   "metadata": {},
   "outputs": [
    {
     "data": {
      "text/plain": [
       "RandomForestClassifier()"
      ]
     },
     "execution_count": 46,
     "metadata": {},
     "output_type": "execute_result"
    }
   ],
   "source": [
    "rf_model = RandomForestClassifier()\n",
    "rf_model.fit(X_train, y_train)"
   ]
  },
  {
   "cell_type": "code",
   "execution_count": 47,
   "id": "91c4a49a",
   "metadata": {},
   "outputs": [],
   "source": [
    "rf_y_pred = rf_model.predict(X_test)"
   ]
  },
  {
   "cell_type": "markdown",
   "id": "0c8f65b1",
   "metadata": {},
   "source": [
    "## Naive Bayes Model"
   ]
  },
  {
   "cell_type": "code",
   "execution_count": 48,
   "id": "2356286d",
   "metadata": {},
   "outputs": [
    {
     "data": {
      "text/plain": [
       "MultinomialNB()"
      ]
     },
     "execution_count": 48,
     "metadata": {},
     "output_type": "execute_result"
    }
   ],
   "source": [
    "nb_model = MultinomialNB()\n",
    "nb_model.fit(X_train, y_train)"
   ]
  },
  {
   "cell_type": "code",
   "execution_count": 49,
   "id": "8e728341",
   "metadata": {},
   "outputs": [],
   "source": [
    "nb_y_pred = nb_model.predict(X_test)"
   ]
  },
  {
   "cell_type": "markdown",
   "id": "1aaa44f2",
   "metadata": {},
   "source": [
    "## Classification Reports"
   ]
  },
  {
   "cell_type": "markdown",
   "id": "0d646e24",
   "metadata": {},
   "source": [
    "### SVM Model Report"
   ]
  },
  {
   "cell_type": "code",
   "execution_count": 50,
   "id": "ef5036f7",
   "metadata": {},
   "outputs": [
    {
     "name": "stdout",
     "output_type": "stream",
     "text": [
      "              precision    recall  f1-score   support\n",
      "\n",
      "         Bad       0.79      0.72      0.75      1136\n",
      "        Good       0.86      0.99      0.92      5274\n",
      "      Medium       0.65      0.06      0.12       762\n",
      "\n",
      "    accuracy                           0.85      7172\n",
      "   macro avg       0.77      0.59      0.60      7172\n",
      "weighted avg       0.83      0.85      0.81      7172\n",
      "\n"
     ]
    }
   ],
   "source": [
    "print(metrics.classification_report(y_test, svm_y_pred))"
   ]
  },
  {
   "cell_type": "markdown",
   "id": "e93d11b1",
   "metadata": {},
   "source": [
    "### Random Forest Report"
   ]
  },
  {
   "cell_type": "code",
   "execution_count": 51,
   "id": "eb387772",
   "metadata": {},
   "outputs": [
    {
     "name": "stdout",
     "output_type": "stream",
     "text": [
      "              precision    recall  f1-score   support\n",
      "\n",
      "         Bad       0.91      0.34      0.50      1136\n",
      "        Good       0.78      1.00      0.88      5274\n",
      "      Medium       0.00      0.00      0.00       762\n",
      "\n",
      "    accuracy                           0.79      7172\n",
      "   macro avg       0.57      0.45      0.46      7172\n",
      "weighted avg       0.72      0.79      0.72      7172\n",
      "\n"
     ]
    },
    {
     "name": "stderr",
     "output_type": "stream",
     "text": [
      "C:\\Users\\gabri\\anaconda3\\lib\\site-packages\\sklearn\\metrics\\_classification.py:1245: UndefinedMetricWarning: Precision and F-score are ill-defined and being set to 0.0 in labels with no predicted samples. Use `zero_division` parameter to control this behavior.\n",
      "  _warn_prf(average, modifier, msg_start, len(result))\n",
      "C:\\Users\\gabri\\anaconda3\\lib\\site-packages\\sklearn\\metrics\\_classification.py:1245: UndefinedMetricWarning: Precision and F-score are ill-defined and being set to 0.0 in labels with no predicted samples. Use `zero_division` parameter to control this behavior.\n",
      "  _warn_prf(average, modifier, msg_start, len(result))\n",
      "C:\\Users\\gabri\\anaconda3\\lib\\site-packages\\sklearn\\metrics\\_classification.py:1245: UndefinedMetricWarning: Precision and F-score are ill-defined and being set to 0.0 in labels with no predicted samples. Use `zero_division` parameter to control this behavior.\n",
      "  _warn_prf(average, modifier, msg_start, len(result))\n"
     ]
    }
   ],
   "source": [
    "print(metrics.classification_report(y_test, rf_y_pred))"
   ]
  },
  {
   "cell_type": "markdown",
   "id": "c4e32527",
   "metadata": {},
   "source": [
    "### Naive Bayes Report"
   ]
  },
  {
   "cell_type": "code",
   "execution_count": 52,
   "id": "0b00d56f",
   "metadata": {},
   "outputs": [
    {
     "name": "stdout",
     "output_type": "stream",
     "text": [
      "              precision    recall  f1-score   support\n",
      "\n",
      "         Bad       0.80      0.74      0.77      1136\n",
      "        Good       0.86      0.98      0.92      5274\n",
      "      Medium       0.25      0.03      0.05       762\n",
      "\n",
      "    accuracy                           0.84      7172\n",
      "   macro avg       0.64      0.58      0.58      7172\n",
      "weighted avg       0.78      0.84      0.80      7172\n",
      "\n"
     ]
    }
   ],
   "source": [
    "print(metrics.classification_report(y_test, nb_y_pred))"
   ]
  },
  {
   "cell_type": "markdown",
   "id": "32dfdc24",
   "metadata": {},
   "source": [
    "# Evaluation using model.score() ----- Accuracy"
   ]
  },
  {
   "cell_type": "markdown",
   "id": "163056d6",
   "metadata": {},
   "source": [
    "## SVM Accurary"
   ]
  },
  {
   "cell_type": "code",
   "execution_count": 65,
   "id": "635e040a",
   "metadata": {},
   "outputs": [
    {
     "data": {
      "text/plain": [
       "0.8467651979921919"
      ]
     },
     "execution_count": 65,
     "metadata": {},
     "output_type": "execute_result"
    }
   ],
   "source": [
    "svm_model.score(X_test, y_test)"
   ]
  },
  {
   "cell_type": "markdown",
   "id": "83327993",
   "metadata": {},
   "source": [
    "## Random Forest Accuracy"
   ]
  },
  {
   "cell_type": "code",
   "execution_count": 66,
   "id": "55892374",
   "metadata": {},
   "outputs": [
    {
     "data": {
      "text/plain": [
       "0.7882041271611824"
      ]
     },
     "execution_count": 66,
     "metadata": {},
     "output_type": "execute_result"
    }
   ],
   "source": [
    "rf_model.score(X_test, y_test)"
   ]
  },
  {
   "cell_type": "markdown",
   "id": "87ae7dac",
   "metadata": {},
   "source": [
    "## Naive Bayes Accuracy"
   ]
  },
  {
   "cell_type": "code",
   "execution_count": 67,
   "id": "7ea038b2",
   "metadata": {},
   "outputs": [
    {
     "data": {
      "text/plain": [
       "0.8424428332403793"
      ]
     },
     "execution_count": 67,
     "metadata": {},
     "output_type": "execute_result"
    }
   ],
   "source": [
    "nb_model.score(X_test, y_test)"
   ]
  },
  {
   "cell_type": "markdown",
   "id": "1b3fc3c9",
   "metadata": {},
   "source": [
    "# Evalution with F1 Score"
   ]
  },
  {
   "cell_type": "markdown",
   "id": "e855265d",
   "metadata": {},
   "source": [
    "## SVM F1"
   ]
  },
  {
   "cell_type": "code",
   "execution_count": 86,
   "id": "0f82b389",
   "metadata": {},
   "outputs": [
    {
     "data": {
      "text/plain": [
       "array([0.91826118, 0.11708483, 0.75438596])"
      ]
     },
     "execution_count": 86,
     "metadata": {},
     "output_type": "execute_result"
    }
   ],
   "source": [
    "svm_f1 = metrics.f1_score(y_test, svm_y_pred, average=None, labels=['Good', 'Medium', 'Bad'])\n",
    "svm_f1"
   ]
  },
  {
   "cell_type": "markdown",
   "id": "bd3d259e",
   "metadata": {},
   "source": [
    "## Random Forest F1"
   ]
  },
  {
   "cell_type": "code",
   "execution_count": 87,
   "id": "415a0ee0",
   "metadata": {},
   "outputs": [
    {
     "data": {
      "text/plain": [
       "array([0.87598769, 0.        , 0.4964721 ])"
      ]
     },
     "execution_count": 87,
     "metadata": {},
     "output_type": "execute_result"
    }
   ],
   "source": [
    "rf_f1 = metrics.f1_score(y_test, rf_y_pred, average=None, labels=['Good', 'Medium', 'Bad'])\n",
    "rf_f1"
   ]
  },
  {
   "cell_type": "markdown",
   "id": "9fb609e6",
   "metadata": {},
   "source": [
    "## Naive Bayes F1"
   ]
  },
  {
   "cell_type": "code",
   "execution_count": 88,
   "id": "82c273f4",
   "metadata": {},
   "outputs": [
    {
     "data": {
      "text/plain": [
       "array([0.91556262, 0.04756243, 0.76937185])"
      ]
     },
     "execution_count": 88,
     "metadata": {},
     "output_type": "execute_result"
    }
   ],
   "source": [
    "nb_f1 = metrics.f1_score(y_test, nb_y_pred, average=None, labels=['Good', 'Medium', 'Bad'])\n",
    "nb_f1"
   ]
  },
  {
   "cell_type": "markdown",
   "id": "6c2cf974",
   "metadata": {},
   "source": [
    "# New Text"
   ]
  },
  {
   "cell_type": "code",
   "execution_count": 93,
   "id": "f9c89c7f",
   "metadata": {},
   "outputs": [],
   "source": [
    "new_text = \"I pre-ordered 4 cameras without any reviews having been posted, so I hope that this helps someone. First off, the cameras are pretty nice, very easy to setup and get connected and the price is just about perfect. The app is where things start to fall apart. It clearly was created for the other Blink cameras that are battery dependent, so most of the quirks/problems I found are probably necessary for battery savings on the other Blink cameras. I have had cameras for well over ten years and have gone through several different apps/programs to access and store the video but I have never had an app that did NOT allow me to view all of my cameras at the same time. This one requires you to select a single camera and activate it individually to view real time video. I assume that this was designed for battery savings, but since these cameras are always on, it now serves no purpose. Additionally, not having the ability to view all of my cameras, while activated in a single 4 pane window seems a step in the wrong direction. For years I have been able to see live feeds in a multi-pane format and select the camera I want to zoom in on that one, not with this app.Second, tech support is, at best, not good. I contacted them regarding the IR light that apparently can NOT be turned off (although you can turn it off via the app for the other Blink cameras?!) and the support tech actually stated that he did not know anything about these cameras and had to ask someone else. That was a first for me. The IR light is probably not a big deal for most, but I have for years had an indoor camera pointed out a window since my front yard is pretty well lit at night and the IR light stuck in the ON position make that impossible.I never review anything, but I wanted to get the word out on this. I suspect that these cameras were kind of rushed and the app just re-purposed, so it my sincere hope that they will address the live view concerns in future app updates specific to Blink Mini owners. Soon I hope!!!! Here's to hoping!Update: I was contacted by Blink following regarding my review. They indicated that multiple people had voiced similar concerns about the apps real-time capabilities and they made it sound like they were developing an update to the app to address this. They also offered to send me an additional camera (an older model) that does allow you to turn off the IR at no charge. I asked directly if this would be in exchange for changing my review and they specifically did NOT ask me to amend this review. If nothing else, that is GREAT customer service.\"\n",
    "\n",
    "new_vec = vectorizer.transform([new_text])\n"
   ]
  },
  {
   "cell_type": "code",
   "execution_count": 94,
   "id": "8099605d",
   "metadata": {},
   "outputs": [
    {
     "data": {
      "text/plain": [
       "array(['Good'], dtype=object)"
      ]
     },
     "execution_count": 94,
     "metadata": {},
     "output_type": "execute_result"
    }
   ],
   "source": [
    "svm_model.predict(new_vec)"
   ]
  },
  {
   "cell_type": "code",
   "execution_count": 95,
   "id": "66de3568",
   "metadata": {},
   "outputs": [
    {
     "data": {
      "text/plain": [
       "array(['Good'], dtype=object)"
      ]
     },
     "execution_count": 95,
     "metadata": {},
     "output_type": "execute_result"
    }
   ],
   "source": [
    "rf_model.predict(new_vec)"
   ]
  },
  {
   "cell_type": "code",
   "execution_count": 96,
   "id": "311d8153",
   "metadata": {},
   "outputs": [
    {
     "data": {
      "text/plain": [
       "array(['Bad'], dtype='<U6')"
      ]
     },
     "execution_count": 96,
     "metadata": {},
     "output_type": "execute_result"
    }
   ],
   "source": [
    "nb_model.predict(new_vec)"
   ]
  },
  {
   "cell_type": "code",
   "execution_count": null,
   "id": "77392bb0",
   "metadata": {},
   "outputs": [],
   "source": []
  }
 ],
 "metadata": {
  "kernelspec": {
   "display_name": "Python 3",
   "language": "python",
   "name": "python3"
  },
  "language_info": {
   "codemirror_mode": {
    "name": "ipython",
    "version": 3
   },
   "file_extension": ".py",
   "mimetype": "text/x-python",
   "name": "python",
   "nbconvert_exporter": "python",
   "pygments_lexer": "ipython3",
   "version": "3.8.8"
  }
 },
 "nbformat": 4,
 "nbformat_minor": 5
}
